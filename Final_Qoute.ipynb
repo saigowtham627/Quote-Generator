{
  "cells": [
    {
      "cell_type": "code",
      "execution_count": 1,
      "metadata": {
        "id": "fCXDQQgi2RHu"
      },
      "outputs": [],
      "source": [
        "from collections import  defaultdict\n",
        "\n",
        "import numpy as np\n",
        "import seaborn as sns\n",
        "import matplotlib.pyplot as plt\n",
        "import math\n",
        "sns.set(palette = 'gist_earth', style='white')\n",
        "\n",
        "import torch\n",
        "import torch.nn as nn\n",
        "import torch.optim as optim\n",
        "import torch.nn.functional as F\n",
        "\n",
        "from tqdm import tqdm_notebook as tqdm\n",
        "\n",
        "from sklearn.manifold import TSNE"
      ]
    },
    {
      "cell_type": "code",
      "execution_count": 4,
      "metadata": {
        "id": "ptOAWNN32X6q"
      },
      "outputs": [],
      "source": [
        "quotes = []\n",
        "max_len = 0\n",
        "min_len = 5\n",
        "sent_len_dic = defaultdict(int)\n",
        "\n",
        "# Try different encodings\n",
        "encodings_to_try = ['utf-8', 'latin-1', 'ISO-8859-1', 'windows-1252']\n",
        "\n",
        "for encoding in encodings_to_try:\n",
        "    try:\n",
        "        with open('prepared.txt', 'r', encoding=encoding) as f:\n",
        "            while True:\n",
        "                quote = f.readline()\n",
        "                if not quote:\n",
        "                    break\n",
        "                words = quote.split(' ')\n",
        "                sent_len = len(words)\n",
        "                if sent_len < min_len:\n",
        "                    continue\n",
        "                max_len = sent_len if sent_len > max_len else max_len\n",
        "                sent_len_dic[sent_len] += 1\n",
        "                flag = False\n",
        "                for i in range(0, 10):\n",
        "                    if str(i) in quote:\n",
        "                        flag = True\n",
        "                        break\n",
        "                if flag:\n",
        "                    continue\n",
        "                quote = quote.replace(',', ' ,').replace('.', ' .').replace('_', '').strip('\\n') + ' ;'\n",
        "                quotes.append(quote.lower())\n",
        "        # If reading succeeds without error, break the loop\n",
        "        break\n",
        "    except UnicodeDecodeError:\n",
        "        continue\n"
      ]
    },
    {
      "cell_type": "code",
      "execution_count": 5,
      "metadata": {
        "colab": {
          "base_uri": "https://localhost:8080/",
          "height": 0
        },
        "id": "iC5-R3hH2XuG",
        "outputId": "f826a22e-1045-424a-e951-c0d8b8299106"
      },
      "outputs": [
        {
          "output_type": "stream",
          "name": "stdout",
          "text": [
            "Sentences with\n",
            "min count words : 5\n",
            "max count words : 50\n"
          ]
        }
      ],
      "source": [
        "print(f'Sentences with\\nmin count words : {min_len}\\nmax count words : {max_len}')"
      ]
    },
    {
      "cell_type": "code",
      "execution_count": 6,
      "metadata": {
        "colab": {
          "base_uri": "https://localhost:8080/",
          "height": 0
        },
        "id": "bmOsQFpg2h-_",
        "outputId": "bad0e915-2d14-4662-8d27-86f72dce5e9e"
      },
      "outputs": [
        {
          "output_type": "execute_result",
          "data": {
            "text/plain": [
              "2665"
            ]
          },
          "metadata": {},
          "execution_count": 6
        }
      ],
      "source": [
        "len(quotes)"
      ]
    },
    {
      "cell_type": "code",
      "execution_count": 7,
      "metadata": {
        "id": "sRWEjZVC2lkG"
      },
      "outputs": [],
      "source": [
        "words_dict = dict()\n",
        "def unique_words(data_list):\n",
        "  for x in data_list:\n",
        "    for word in x.split(' '):\n",
        "      words_dict[word] = 1\n",
        "  return words_dict.keys()\n"
      ]
    },
    {
      "cell_type": "code",
      "execution_count": 8,
      "metadata": {
        "id": "Pej9aIew2oAG"
      },
      "outputs": [],
      "source": [
        "words = list(unique_words(quotes))\n",
        "words.sort()"
      ]
    },
    {
      "cell_type": "code",
      "execution_count": 9,
      "metadata": {
        "colab": {
          "base_uri": "https://localhost:8080/",
          "height": 0
        },
        "id": "68fWomvS2qaU",
        "outputId": "9b2ac921-8b28-4931-edc8-3af08edf0a68"
      },
      "outputs": [
        {
          "output_type": "execute_result",
          "data": {
            "text/plain": [
              "4305"
            ]
          },
          "metadata": {},
          "execution_count": 9
        }
      ],
      "source": [
        "len(words)"
      ]
    },
    {
      "cell_type": "code",
      "execution_count": 10,
      "metadata": {
        "id": "qiqb1rNA2rLI"
      },
      "outputs": [],
      "source": [
        "word_to_int = dict()\n",
        "int_to_word = dict()\n",
        "vocab_len = len(words)\n",
        "for i in range(0, vocab_len):\n",
        "  word_to_int[words[i]] = i\n",
        "  int_to_word[i] = words[i]"
      ]
    },
    {
      "cell_type": "code",
      "execution_count": 11,
      "metadata": {
        "id": "Xh_34EFd2rHh"
      },
      "outputs": [],
      "source": [
        "co_occ_matrix = defaultdict(int)\n",
        "window = 5 # not greater than 5\n",
        "for sent in quotes:\n",
        "  words = sent.split(' ')\n",
        "  # first window\n",
        "  for i in range(0, window):\n",
        "    for j in range(i+1, window):\n",
        "      weight = 1/(j-i)\n",
        "      ind_1 = word_to_int[words[i]]\n",
        "      ind_2 = word_to_int[words[j]]\n",
        "      if ind_1 == ind_2:\n",
        "        continue\n",
        "      co_occ_matrix[(ind_1, ind_2)] += weight\n",
        "      co_occ_matrix[(ind_2, ind_1)] += weight\n",
        "  # rest windows\n",
        "  for i in range(window, len(words)):\n",
        "    for j in range(i-window, i):\n",
        "      weight = 1/(i-j)\n",
        "      ind_1 = word_to_int[words[i]]\n",
        "      ind_2 = word_to_int[words[j]]\n",
        "      if ind_1 == ind_2:\n",
        "        continue\n",
        "      co_occ_matrix[(ind_1, ind_2)] += weight\n",
        "      co_occ_matrix[(ind_2, ind_1)] += weight"
      ]
    },
    {
      "cell_type": "code",
      "execution_count": 12,
      "metadata": {
        "colab": {
          "base_uri": "https://localhost:8080/",
          "height": 642
        },
        "id": "MjhIaXdb2rEw",
        "outputId": "d473fbb4-ed69-4040-c621-98341d1e72e7"
      },
      "outputs": [
        {
          "output_type": "stream",
          "name": "stderr",
          "text": [
            "<ipython-input-12-b202298d5b62>:2: UserWarning: \n",
            "\n",
            "`distplot` is a deprecated function and will be removed in seaborn v0.14.0.\n",
            "\n",
            "Please adapt your code to use either `displot` (a figure-level function with\n",
            "similar flexibility) or `histplot` (an axes-level function for histograms).\n",
            "\n",
            "For a guide to updating your code to use the new functions, please see\n",
            "https://gist.github.com/mwaskom/de44147ed2974457ad6372750bbe5751\n",
            "\n",
            "  sns.distplot(topk)\n"
          ]
        },
        {
          "output_type": "execute_result",
          "data": {
            "text/plain": [
              "<Axes: ylabel='Density'>"
            ]
          },
          "metadata": {},
          "execution_count": 12
        },
        {
          "output_type": "display_data",
          "data": {
            "text/plain": [
              "<Figure size 640x480 with 1 Axes>"
            ],
            "image/png": "[encoded data removed]"
          },
          "metadata": {}
        }
      ],
      "source": [
        "topk, ind = torch.topk(torch.tensor(list(co_occ_matrix.values())), 200)\n",
        "sns.distplot(topk)"
      ]
    },
    {
      "cell_type": "code",
      "execution_count": 13,
      "metadata": {
        "colab": {
          "base_uri": "https://localhost:8080/",
          "height": 451
        },
        "id": "-5HyUpGh3tO8",
        "outputId": "78be07ad-b584-4f56-b407-a2c1169461a0"
      },
      "outputs": [
        {
          "output_type": "execute_result",
          "data": {
            "text/plain": [
              "<Axes: >"
            ]
          },
          "metadata": {},
          "execution_count": 13
        },
        {
          "output_type": "display_data",
          "data": {
            "text/plain": [
              "<Figure size 640x480 with 1 Axes>"
            ],
            "image/png": "[encoded data removed]"
          },
          "metadata": {}
        }
      ],
      "source": [
        "elem_den = []\n",
        "for i in co_occ_matrix.values():\n",
        "  if i > 0 and i < 10:\n",
        "    elem_den.append(i)\n",
        "sns.violinplot(x = elem_den)"
      ]
    },
    {
      "cell_type": "code",
      "execution_count": 14,
      "metadata": {
        "id": "NUI6jdDD3v4o"
      },
      "outputs": [],
      "source": [
        "tot_pairs = len(co_occ_matrix)\n",
        "p1, p2,occs = list(), list(), list()\n",
        "for i in co_occ_matrix.keys():\n",
        "    p1.append(i[0])\n",
        "    p2.append(i[1])\n",
        "    occs.append(co_occ_matrix[i])\n",
        "p1 = np.array(p1)\n",
        "p2 = np.array(p2)\n",
        "occs = np.array(occs)"
      ]
    },
    {
      "cell_type": "code",
      "execution_count": 15,
      "metadata": {
        "colab": {
          "base_uri": "https://localhost:8080/",
          "height": 0
        },
        "id": "HVTjMxA_4Juy",
        "outputId": "abc01317-2e18-4050-9501-88e75eb26248"
      },
      "outputs": [
        {
          "output_type": "execute_result",
          "data": {
            "text/plain": [
              "90102"
            ]
          },
          "metadata": {},
          "execution_count": 15
        }
      ],
      "source": [
        "occs.size"
      ]
    },
    {
      "cell_type": "code",
      "execution_count": 16,
      "metadata": {
        "id": "cIei3XxW4Vlj"
      },
      "outputs": [],
      "source": [
        "def get_batch(batch_size):\n",
        "  ind = np.random.permutation(occs.size).tolist()\n",
        "  i = 0\n",
        "  for i in range(0, tot_pairs, batch_size):\n",
        "    batch_ids = ind[i:i+batch_size]\n",
        "    yield p1[batch_ids], p2[batch_ids], occs[batch_ids]"
      ]
    },
    {
      "cell_type": "code",
      "execution_count": 17,
      "metadata": {
        "id": "KCV9LSDI4YoO"
      },
      "outputs": [],
      "source": [
        "device = None\n",
        "if torch.cuda.is_available():\n",
        "    device = torch.device(\"cuda:0\")\n",
        "else:\n",
        "    device = torch.device(\"cpu\")"
      ]
    },
    {
      "cell_type": "code",
      "execution_count": 18,
      "metadata": {
        "id": "GRMN3BZR4bwP"
      },
      "outputs": [],
      "source": [
        "class Glove(nn.Module) :\n",
        "  def __init__(self, vocab_len, num_dim,):\n",
        "    super(Glove, self).__init__()\n",
        "    self.ui = nn.Embedding(vocab_len, num_dim).to(device)\n",
        "    self.uj = nn.Embedding(vocab_len, num_dim).to(device)\n",
        "    self.bi = nn.Embedding(vocab_len, 1).to(device)\n",
        "    self.bj = nn.Embedding(vocab_len, 1).to(device)\n",
        "\n",
        "    self.ui.weight.data.uniform_(-1,1)\n",
        "    self.uj.weight.data.uniform_(-1,1)\n",
        "    self.bi.weight.data.zero_()\n",
        "    self.bj.weight.data.zero_()\n",
        "\n",
        "  def forward(self, i_vecs, j_vecs):\n",
        "    i_s = self.ui(i_vecs)\n",
        "    j_s = self.uj(j_vecs)\n",
        "    b_i = torch.squeeze(self.bi(i_vecs))\n",
        "    b_j = torch.squeeze(self.bj(j_vecs))\n",
        "    return torch.sum(i_s * j_s, dim = 1) + b_i + b_j"
      ]
    },
    {
      "cell_type": "code",
      "execution_count": 19,
      "metadata": {
        "id": "xkL629Ln4fRr"
      },
      "outputs": [],
      "source": [
        "num_dim = 128\n",
        "glove = Glove(vocab_len, num_dim).to(device)\n"
      ]
    },
    {
      "cell_type": "code",
      "execution_count": 20,
      "metadata": {
        "id": "eTdeKCSI4i-r"
      },
      "outputs": [],
      "source": [
        "def f_x(x, x_max, alpha):\n",
        "  x = (x/x_max)**alpha\n",
        "  return torch.min(x, torch.ones_like(x)).to(device)\n",
        "\n",
        "def weight_mse(w_x, x, log_x):\n",
        "  loss = w_x * F.mse_loss(x, log_x, reduction='none')\n",
        "  return torch.mean(loss).to(device)"
      ]
    },
    {
      "cell_type": "code",
      "execution_count": 21,
      "metadata": {
        "colab": {
          "base_uri": "https://localhost:8080/",
          "height": 622,
          "referenced_widgets": [
            "ee2ea38606c04336a0402c9e52421b03",
            "c242895005534a4dbb5c52208b802f74",
            "d4e3685c1d804a299c0d426b1bfa1edb",
            "c5ce597a52214a85af61345948f78fc4",
            "8b89fe9ac83445689813cb8ef4a30822",
            "3de26ca2ac8f4c79918fdc4307a9a269",
            "976e2f1e84f24bd0842eba28bbca0f69",
            "84fd2e9e22484ff89acdd842827a9f4a",
            "d46c723d005e48eb8f7a03d652af174e",
            "9f430a82c99d44559cbb0b95362c9c3c",
            "d9569463ae154bc9a5b0455c831d8d93"
          ]
        },
        "id": "ImueYZrE4lvf",
        "outputId": "fda7aed9-4f3a-4184-ca34-d0ca3068e1f8"
      },
      "outputs": [
        {
          "output_type": "stream",
          "name": "stderr",
          "text": [
            "<ipython-input-21-f704c1b45cf8>:9: TqdmDeprecationWarning: This function will be removed in tqdm==5.0.0\n",
            "Please use `tqdm.notebook.tqdm` instead of `tqdm.tqdm_notebook`\n",
            "  for epoch in tqdm(range(epochs)):\n"
          ]
        },
        {
          "output_type": "display_data",
          "data": {
            "text/plain": [
              "  0%|          | 0/30 [00:00<?, ?it/s]"
            ],
            "application/vnd.jupyter.widget-view+json": {
              "version_major": 2,
              "version_minor": 0,
              "model_id": "ee2ea38606c04336a0402c9e52421b03"
            }
          },
          "metadata": {}
        },
        {
          "output_type": "stream",
          "name": "stdout",
          "text": [
            "Epoch : 1 ----> Loss : 2.816469192504883\n",
            "Epoch : 2 ----> Loss : 7.252768516540527\n",
            "Epoch : 3 ----> Loss : 1.3813749551773071\n",
            "Epoch : 4 ----> Loss : 0.6742268800735474\n",
            "Epoch : 5 ----> Loss : 0.38223516941070557\n",
            "Epoch : 6 ----> Loss : 0.3104605972766876\n",
            "Epoch : 7 ----> Loss : 0.32269051671028137\n",
            "Epoch : 8 ----> Loss : 0.20151713490486145\n",
            "Epoch : 9 ----> Loss : 0.1607300490140915\n",
            "Epoch : 10 ----> Loss : 0.20570026338100433\n",
            "Epoch : 11 ----> Loss : 0.1584184616804123\n",
            "Epoch : 12 ----> Loss : 0.20268945395946503\n",
            "Epoch : 13 ----> Loss : 0.4730634093284607\n",
            "Epoch : 14 ----> Loss : 0.191865473985672\n",
            "Epoch : 15 ----> Loss : 0.08626402914524078\n",
            "Epoch : 16 ----> Loss : 0.21400465071201324\n",
            "Epoch : 17 ----> Loss : 0.13051675260066986\n",
            "Epoch : 18 ----> Loss : 0.12858429551124573\n",
            "Epoch : 19 ----> Loss : 0.14052289724349976\n",
            "Epoch : 20 ----> Loss : 0.05736701563000679\n",
            "Epoch : 21 ----> Loss : 0.17902013659477234\n",
            "Epoch : 22 ----> Loss : 0.09883394837379456\n",
            "Epoch : 23 ----> Loss : 0.0866616889834404\n",
            "Epoch : 24 ----> Loss : 0.10940340906381607\n",
            "Epoch : 25 ----> Loss : 0.0813947394490242\n",
            "Epoch : 26 ----> Loss : 0.04144560545682907\n",
            "Epoch : 27 ----> Loss : 0.0779382660984993\n",
            "Epoch : 28 ----> Loss : 0.04184681549668312\n",
            "Epoch : 29 ----> Loss : 0.0586337149143219\n",
            "Epoch : 30 ----> Loss : 0.050741150975227356\n"
          ]
        }
      ],
      "source": [
        "epochs = 30\n",
        "batch_size = 64\n",
        "batch_count = 0\n",
        "x_max = 1\n",
        "alpha = 0.75\n",
        "loss_trace = []\n",
        "n_bathces = int(math.floor(len(occs)/batch_size))\n",
        "optimizer = optim.Adagrad(glove.parameters(), lr=0.15)\n",
        "for epoch in tqdm(range(epochs)):\n",
        "  batch_count = -1\n",
        "  for ind_1, ind_2, occ in get_batch(batch_size):\n",
        "    batch_count += 1\n",
        "    occ = torch.FloatTensor(occ).to(device)\n",
        "    optimizer.zero_grad()\n",
        "    y_hat = glove.forward(torch.tensor(ind_1).to(device),\n",
        "                          torch.tensor(ind_2).to(device))\n",
        "    w_x = f_x(occ, x_max, alpha)\n",
        "    loss = weight_mse(w_x, y_hat, torch.log(occ))\n",
        "    loss.backward()\n",
        "    optimizer.step()\n",
        "    loss_trace.append(loss.item())\n",
        "    if batch_count == n_bathces:\n",
        "      break\n",
        "  print(f\"Epoch : {epoch + 1} ----> Loss : {loss_trace[-1]}\")"
      ]
    },
    {
      "cell_type": "code",
      "execution_count": 22,
      "metadata": {
        "colab": {
          "base_uri": "https://localhost:8080/",
          "height": 451
        },
        "id": "hgeG1Ust5GlU",
        "outputId": "bab6e58b-b249-4569-a35b-6ffb4a352da5"
      },
      "outputs": [
        {
          "output_type": "execute_result",
          "data": {
            "text/plain": [
              "[<matplotlib.lines.Line2D at 0x7dd4b29f6680>]"
            ]
          },
          "metadata": {},
          "execution_count": 22
        },
        {
          "output_type": "display_data",
          "data": {
            "text/plain": [
              "<Figure size 640x480 with 1 Axes>"
            ],
            "image/png": "[encoded data removed]"
          },
          "metadata": {}
        }
      ],
      "source": [
        "plt.plot(loss_trace)"
      ]
    },
    {
      "cell_type": "code",
      "execution_count": 23,
      "metadata": {
        "id": "bTwRcbhG5KX9"
      },
      "outputs": [],
      "source": [
        "torch.save(glove, 'glove.pth')"
      ]
    },
    {
      "cell_type": "code",
      "execution_count": 24,
      "metadata": {
        "id": "UQ_SBG3I5MgY"
      },
      "outputs": [],
      "source": [
        "glove = torch.load('glove.pth',device)"
      ]
    },
    {
      "cell_type": "code",
      "execution_count": 25,
      "metadata": {
        "colab": {
          "base_uri": "https://localhost:8080/",
          "height": 0
        },
        "id": "m3x7RrTc5PZ9",
        "outputId": "5f7fa70b-4d0a-4eaf-9c18-1b108e8d163a"
      },
      "outputs": [
        {
          "output_type": "execute_result",
          "data": {
            "text/plain": [
              "Glove(\n",
              "  (ui): Embedding(4305, 128)\n",
              "  (uj): Embedding(4305, 128)\n",
              "  (bi): Embedding(4305, 1)\n",
              "  (bj): Embedding(4305, 1)\n",
              ")"
            ]
          },
          "metadata": {},
          "execution_count": 25
        }
      ],
      "source": [
        "glove.eval()"
      ]
    },
    {
      "cell_type": "code",
      "execution_count": 26,
      "metadata": {
        "id": "8wOkcXml5RcL"
      },
      "outputs": [],
      "source": [
        "emb_i = glove.ui.weight.cpu().data.numpy()\n",
        "emb_j = glove.uj.weight.cpu().data.numpy()\n",
        "emb = emb_i + emb_j"
      ]
    },
    {
      "cell_type": "code",
      "execution_count": 27,
      "metadata": {
        "id": "XO1pMCuy5T0J"
      },
      "outputs": [],
      "source": [
        "tsne = TSNE(n_components=2, perplexity=40, n_iter=300,metric='cosine')\n",
        "n_points = 100\n",
        "emb_tsne = tsne.fit_transform(emb[:n_points, :])"
      ]
    },
    {
      "cell_type": "code",
      "execution_count": 28,
      "metadata": {
        "id": "bH6qnuK35WEd",
        "colab": {
          "base_uri": "https://localhost:8080/",
          "height": 1000
        },
        "outputId": "2eb3b8ea-1f69-41af-c407-ad85e40edfd5"
      },
      "outputs": [
        {
          "output_type": "display_data",
          "data": {
            "text/plain": [
              "<Figure size 1600x1600 with 1 Axes>"
            ],
            "image/png": "[encoded data removed]"
          },
          "metadata": {}
        }
      ],
      "source": [
        "labels = list(word_to_int.keys())[:n_points]\n",
        "x = emb_tsne[:,0]\n",
        "y = emb_tsne[:,1]\n",
        "plt.figure(figsize=(16, 16))\n",
        "for i in range(n_points):\n",
        "  plt.scatter(x[i],y[i])\n",
        "  plt.annotate(labels[i], xy=(x[i], y[i]), xytext=(5, 2),\n",
        "               textcoords='offset points', ha='right', va='bottom')"
      ]
    },
    {
      "cell_type": "code",
      "execution_count": 29,
      "metadata": {
        "id": "GxIpP7Ev5YRa"
      },
      "outputs": [],
      "source": [
        "max_sent_len = 50\n",
        "window = 5\n",
        "sequences, next_words = [], []\n",
        "for quote in quotes:\n",
        "  words = quote.split(' ')\n",
        "  for i in range(0,len(words) - window + 1):\n",
        "    sequences.append(words[i:i+window])\n",
        "    if (i + window) < len(words):\n",
        "      next_words.append(words[i+window])\n",
        "    else:\n",
        "      next_words.append(';')"
      ]
    },
    {
      "cell_type": "code",
      "execution_count": 30,
      "metadata": {
        "id": "GyhFqLyj5ayr",
        "colab": {
          "base_uri": "https://localhost:8080/",
          "height": 0
        },
        "outputId": "11c629ca-da04-4e2e-f278-3454dc11b372"
      },
      "outputs": [
        {
          "output_type": "stream",
          "name": "stdout",
          "text": [
            "                Sequence                 Next_Word\n",
            "--------------------------------------------------\n",
            "we accept the love we                      think   \n",
            "accept the love we think                     we    \n",
            "the love we think we                      deserve  \n",
            "love we think we deserve                     .     \n",
            "we think we deserve .                        ;     \n",
            "think we deserve . ;                         ;     \n",
            "love all , trust a                          few    \n",
            "all , trust a few                            ,     \n",
            ", trust a few ,                              do    \n",
            "trust a few , do                           wrong   \n",
            "a few , do wrong                             to    \n",
            "few , do wrong to                           none   \n",
            ", do wrong to none                           .     \n",
            "do wrong to none .                           ;     \n",
            "wrong to none . ;                            ;     \n",
            "to die will be an                         awfully  \n",
            "die will be an awfully                      big    \n",
            "will be an awfully big                   adventure \n",
            "be an awfully big adventure                  .     \n",
            "an awfully big adventure .                   ;     \n"
          ]
        }
      ],
      "source": [
        "print(\"{0:^40} {1}\".format('Sequence', 'Next_Word'))\n",
        "print('-'*50)\n",
        "for i in range(20):\n",
        "  print(f\"{' '.join(sequences[i]) : <40} {next_words[i] : ^10}\")"
      ]
    },
    {
      "cell_type": "code",
      "execution_count": 31,
      "metadata": {
        "id": "MTphfegZ5dyj",
        "colab": {
          "base_uri": "https://localhost:8080/",
          "height": 0
        },
        "outputId": "64d6f531-41e7-4598-a7ea-e896ff2f9962"
      },
      "outputs": [
        {
          "output_type": "stream",
          "name": "stdout",
          "text": [
            "15674\n"
          ]
        }
      ],
      "source": [
        "tot_seq = len(next_words)\n",
        "print(tot_seq)"
      ]
    },
    {
      "cell_type": "code",
      "execution_count": 32,
      "metadata": {
        "id": "OYvdp3Eh5gKe"
      },
      "outputs": [],
      "source": [
        "X = np.zeros((tot_seq, window, num_dim))\n",
        "Y = np.zeros((tot_seq,vocab_len))\n",
        "for i,seq in enumerate(sequences):\n",
        "  for j,word in enumerate(seq):\n",
        "    num_id = word_to_int[word]\n",
        "    X[i][j] = np.squeeze(emb[num_id])\n",
        "  num_id = word_to_int[next_words[i]]\n",
        "  Y[i][num_id] = 1"
      ]
    },
    {
      "cell_type": "code",
      "execution_count": 33,
      "metadata": {
        "id": "qqZ_8qkY5iSn",
        "colab": {
          "base_uri": "https://localhost:8080/",
          "height": 0
        },
        "outputId": "d07cfe36-d0c3-40a5-a1af-81db17ccedc3"
      },
      "outputs": [
        {
          "output_type": "execute_result",
          "data": {
            "text/plain": [
              "((15674, 5, 128), (15674, 4305))"
            ]
          },
          "metadata": {},
          "execution_count": 33
        }
      ],
      "source": [
        "X.shape, Y.shape"
      ]
    },
    {
      "cell_type": "code",
      "execution_count": 34,
      "metadata": {
        "id": "SZH0dbSm5kqR"
      },
      "outputs": [],
      "source": [
        "def get_batches_x(tot_seq, batch_size):\n",
        "  ind = np.random.permutation(tot_seq).tolist()\n",
        "  i = 0\n",
        "  for i in range(0, tot_seq, batch_size):\n",
        "    batch_ids = ind[i:i+batch_size]\n",
        "    yield X[batch_ids], Y[batch_ids]"
      ]
    },
    {
      "cell_type": "code",
      "execution_count": 35,
      "metadata": {
        "id": "u6V4Ifyb5m4C"
      },
      "outputs": [],
      "source": [
        "class Quote_Generator(nn.Module):\n",
        "  def __init__(self, embed_size, hidden_size, vocab_len):\n",
        "    super(Quote_Generator, self).__init__()\n",
        "    self.hidden_size = hidden_size\n",
        "    self.lstm = nn.LSTM(embed_size, hidden_size, batch_first = True).to(device)\n",
        "    self.dropout = nn.Dropout(0.4)\n",
        "    self.dense = nn.Linear(hidden_size*5, vocab_len).to(device)\n",
        "\n",
        "  def forward(self, x, prev_state):\n",
        "    output, state = self.lstm(x)\n",
        "    output = self.dropout(output)\n",
        "    logits = self.dense(output.reshape(-1, hidden_size*5))\n",
        "    return logits, state\n",
        "\n",
        "  def zero_states(self, batch_size):\n",
        "    return (torch.zeros(1, batch_size, self.hidden_size).to(device),\n",
        "            torch.zeros(1, batch_size, self.hidden_size).to(device))"
      ]
    },
    {
      "cell_type": "code",
      "execution_count": 36,
      "metadata": {
        "id": "3Bm9Snem5p1-"
      },
      "outputs": [],
      "source": [
        "def entropy_loss(y, y_hat):\n",
        "  y_hat = F.softmax(y_hat, dim = 1)\n",
        "  ll = - (y * torch.log(y_hat))\n",
        "  return torch.sum(ll, dim = 1).mean().to(device)"
      ]
    },
    {
      "cell_type": "code",
      "execution_count": 37,
      "metadata": {
        "id": "CQahBJoU5sXP"
      },
      "outputs": [],
      "source": [
        "embed_size = 128\n",
        "hidden_size = 64\n",
        "qt_gen = Quote_Generator(embed_size, hidden_size, vocab_len).to(device)"
      ]
    },
    {
      "cell_type": "code",
      "execution_count": 38,
      "metadata": {
        "id": "2qFiJduv5uu6",
        "colab": {
          "base_uri": "https://localhost:8080/",
          "height": 188,
          "referenced_widgets": [
            "39158cd3885548eaa0c376a88feed6f2",
            "026e1fd4481949cfaf4cbba7e31e2a5a",
            "dfbde5a492d34f0d99fdc157d2330e3d",
            "53ba27b78e2249c9a0f67dadeafb5d3f",
            "94b2141ffdff41d5a8914ee7fb288777",
            "a9b0d20c200249049b5d59edffa1202a",
            "7fb6d0dec9d24d55bf3ed2a3f53da840",
            "986fe83fdf3645d1b162f46a576d0027",
            "89f42229d1184e278399916f937bbf58",
            "29ddb83211c945a9a736fd5cc796c6f6",
            "7fa47e12ea784f318968bfaa6b318650"
          ]
        },
        "outputId": "08a152f1-6412-47d4-e67b-221fb81b0804"
      },
      "outputs": [
        {
          "output_type": "stream",
          "name": "stderr",
          "text": [
            "<ipython-input-38-ff6d34fb7f62>:5: TqdmDeprecationWarning: This function will be removed in tqdm==5.0.0\n",
            "Please use `tqdm.notebook.tqdm` instead of `tqdm.tqdm_notebook`\n",
            "  for epoch in tqdm(range(epochs)):\n"
          ]
        },
        {
          "output_type": "display_data",
          "data": {
            "text/plain": [
              "  0%|          | 0/50 [00:00<?, ?it/s]"
            ],
            "application/vnd.jupyter.widget-view+json": {
              "version_major": 2,
              "version_minor": 0,
              "model_id": "39158cd3885548eaa0c376a88feed6f2"
            }
          },
          "metadata": {}
        },
        {
          "output_type": "stream",
          "name": "stdout",
          "text": [
            "Epoch : 0 ----> Loss : 8.348747253417969\n",
            "Epoch : 10 ----> Loss : 4.726864218711853\n",
            "Epoch : 20 ----> Loss : 4.218264818191528\n",
            "Epoch : 30 ----> Loss : 3.908602297306061\n",
            "Epoch : 40 ----> Loss : 3.646733582019806\n"
          ]
        }
      ],
      "source": [
        "epochs = 50\n",
        "batch_size = 4096\n",
        "losses = []\n",
        "optimizer = torch.optim.Adam(qt_gen.parameters(), lr=0.001)\n",
        "for epoch in tqdm(range(epochs)):\n",
        "  batches = get_batches_x(tot_seq, batch_size)\n",
        "  h_h, h_c = qt_gen.zero_states(batch_size)\n",
        "  for x,y in batches:\n",
        "    qt_gen.train()\n",
        "    optimizer.zero_grad()\n",
        "    x = torch.tensor(x).float().to(device)\n",
        "    y = torch.tensor(y).long().to(device)\n",
        "    logits, (h_h, h_c) = qt_gen(x, (h_h, h_c))\n",
        "    loss = entropy_loss(y, logits)\n",
        "    h_h.detach()\n",
        "    h_c.detach()\n",
        "    loss.backward()\n",
        "    _ = nn.utils.clip_grad_norm_(qt_gen.parameters(), 5)\n",
        "    optimizer.step()\n",
        "    losses.append(loss.item())\n",
        "  if (epoch) % 10 == 0:\n",
        "    print(f\"Epoch : {epoch} ----> Loss : {np.array(losses).mean()}\")\n",
        "  losses = []"
      ]
    },
    {
      "cell_type": "code",
      "execution_count": 39,
      "metadata": {
        "id": "dWh_qN4O5yx1"
      },
      "outputs": [],
      "source": [
        "torch.save(qt_gen, 'qt_gen.pth')"
      ]
    },
    {
      "cell_type": "code",
      "execution_count": 40,
      "metadata": {
        "id": "mGlfh75d50vz",
        "colab": {
          "base_uri": "https://localhost:8080/",
          "height": 0
        },
        "outputId": "6f04bafd-0217-4a61-afc7-79c4e145810e"
      },
      "outputs": [
        {
          "output_type": "execute_result",
          "data": {
            "text/plain": [
              "Quote_Generator(\n",
              "  (lstm): LSTM(128, 64, batch_first=True)\n",
              "  (dropout): Dropout(p=0.4, inplace=False)\n",
              "  (dense): Linear(in_features=320, out_features=4305, bias=True)\n",
              ")"
            ]
          },
          "metadata": {},
          "execution_count": 40
        }
      ],
      "source": [
        "qt_gen = torch.load('qt_gen.pth', device)\n",
        "qt_gen.eval()"
      ]
    },
    {
      "cell_type": "code",
      "execution_count": 41,
      "metadata": {
        "id": "PqLgBMNM53E2"
      },
      "outputs": [],
      "source": [
        "def predict(x, temp):\n",
        "  probs = F.softmax(x / temp, dim = 0)\n",
        "  probs = np.squeeze(probs.detach().cpu().numpy())\n",
        "  ind = np.random.choice(6361, 1, p = probs)\n",
        "  return ind[0]"
      ]
    },
    {
      "cell_type": "code",
      "source": [
        "import torch\n",
        "import numpy as np\n",
        "import torch.nn.functional as F\n",
        "\n",
        "# Assuming the 'predict' function generates probabilities for words\n",
        "\n",
        "def predict(x, temp):\n",
        "    probs = F.softmax(x / temp, dim=0)\n",
        "    probs = np.squeeze(probs.detach().cpu().numpy())\n",
        "    ind = np.random.choice(len(probs), 1, p=probs)\n",
        "    return ind[0]\n",
        "# End of the predict function\n",
        "\n",
        "generated_text = ['there', 'is', 'no', 'one', 'love']\n",
        "curr_len = 0\n",
        "embeds = []\n",
        "is_end = word_to_int[';']  # Assuming ';' is the end token in your vocabulary\n",
        "\n",
        "qt_gen.eval()\n",
        "\n",
        "for i in generated_text:\n",
        "    embeds.append(emb[word_to_int[i]])\n",
        "\n",
        "while curr_len < 10:\n",
        "    curr_len += 1\n",
        "    input_tensor = torch.Tensor(embeds).view(1, 5, 128).float().to(device)\n",
        "    h_h, h_c = qt_gen.zero_states(1)\n",
        "    output, (h_h, h_c) = qt_gen(input_tensor, (h_h, h_c))\n",
        "    word_ind = predict(output[-1], 1.6)\n",
        "\n",
        "    # Updating the embeds list with the embedding of the newly predicted word\n",
        "    embeds[0] = emb[word_ind]\n",
        "    generated_text.append(int_to_word[word_ind])\n",
        "\n",
        "    if word_ind == is_end:\n",
        "        break\n"
      ],
      "metadata": {
        "id": "r_xVAw-ZglI9"
      },
      "execution_count": 125,
      "outputs": []
    },
    {
      "cell_type": "code",
      "execution_count": 126,
      "metadata": {
        "id": "h5NbrXNg59Oz",
        "colab": {
          "base_uri": "https://localhost:8080/",
          "height": 36
        },
        "outputId": "42f756fa-0fc4-4dd6-c3d0-d7ef46645214"
      },
      "outputs": [
        {
          "output_type": "execute_result",
          "data": {
            "text/plain": [
              "'there is no one love remain everything saw sun ;'"
            ],
            "application/vnd.google.colaboratory.intrinsic+json": {
              "type": "string"
            }
          },
          "metadata": {},
          "execution_count": 126
        }
      ],
      "source": [
        "' '.join(generated_text)"
      ]
    },
    {
      "cell_type": "markdown",
      "source": [
        "#The dataset used by us , is very limited .The usage of large datasets is exhausting our systems resources. But iam sure the model has an capability of acheving state of the art results , if trained on large corpus:)"
      ],
      "metadata": {
        "id": "DfB_FvfJvw56"
      }
    },
    {
      "cell_type": "code",
      "execution_count": 46,
      "metadata": {
        "id": "tGfOziCW5-Iu"
      },
      "outputs": [],
      "source": [
        "torch.cuda.empty_cache()"
      ]
    }
  ],
  "metadata": {
    "colab": {
      "provenance": []
    },
    "kernelspec": {
      "display_name": "Python 3",
      "name": "python3"
    },
    "language_info": {
      "name": "python"
    },
    "widgets": {
      "application/vnd.jupyter.widget-state+json": {
        "ee2ea38606c04336a0402c9e52421b03": {
          "model_module": "@jupyter-widgets/controls",
          "model_name": "HBoxModel",
          "model_module_version": "1.5.0",
          "state": {
            "_dom_classes": [],
            "_model_module": "@jupyter-widgets/controls",
            "_model_module_version": "1.5.0",
            "_model_name": "HBoxModel",
            "_view_count": null,
            "_view_module": "@jupyter-widgets/controls",
            "_view_module_version": "1.5.0",
            "_view_name": "HBoxView",
            "box_style": "",
            "children": [
              "IPY_MODEL_c242895005534a4dbb5c52208b802f74",
              "IPY_MODEL_d4e3685c1d804a299c0d426b1bfa1edb",
              "IPY_MODEL_c5ce597a52214a85af61345948f78fc4"
            ],
            "layout": "IPY_MODEL_8b89fe9ac83445689813cb8ef4a30822"
          }
        },
        "c242895005534a4dbb5c52208b802f74": {
          "model_module": "@jupyter-widgets/controls",
          "model_name": "HTMLModel",
          "model_module_version": "1.5.0",
          "state": {
            "_dom_classes": [],
            "_model_module": "@jupyter-widgets/controls",
            "_model_module_version": "1.5.0",
            "_model_name": "HTMLModel",
            "_view_count": null,
            "_view_module": "@jupyter-widgets/controls",
            "_view_module_version": "1.5.0",
            "_view_name": "HTMLView",
            "description": "",
            "description_tooltip": null,
            "layout": "IPY_MODEL_3de26ca2ac8f4c79918fdc4307a9a269",
            "placeholder": "​",
            "style": "IPY_MODEL_976e2f1e84f24bd0842eba28bbca0f69",
            "value": "100%"
          }
        },
        "d4e3685c1d804a299c0d426b1bfa1edb": {
          "model_module": "@jupyter-widgets/controls",
          "model_name": "FloatProgressModel",
          "model_module_version": "1.5.0",
          "state": {
            "_dom_classes": [],
            "_model_module": "@jupyter-widgets/controls",
            "_model_module_version": "1.5.0",
            "_model_name": "FloatProgressModel",
            "_view_count": null,
            "_view_module": "@jupyter-widgets/controls",
            "_view_module_version": "1.5.0",
            "_view_name": "ProgressView",
            "bar_style": "success",
            "description": "",
            "description_tooltip": null,
            "layout": "IPY_MODEL_84fd2e9e22484ff89acdd842827a9f4a",
            "max": 30,
            "min": 0,
            "orientation": "horizontal",
            "style": "IPY_MODEL_d46c723d005e48eb8f7a03d652af174e",
            "value": 30
          }
        },
        "c5ce597a52214a85af61345948f78fc4": {
          "model_module": "@jupyter-widgets/controls",
          "model_name": "HTMLModel",
          "model_module_version": "1.5.0",
          "state": {
            "_dom_classes": [],
            "_model_module": "@jupyter-widgets/controls",
            "_model_module_version": "1.5.0",
            "_model_name": "HTMLModel",
            "_view_count": null,
            "_view_module": "@jupyter-widgets/controls",
            "_view_module_version": "1.5.0",
            "_view_name": "HTMLView",
            "description": "",
            "description_tooltip": null,
            "layout": "IPY_MODEL_9f430a82c99d44559cbb0b95362c9c3c",
            "placeholder": "​",
            "style": "IPY_MODEL_d9569463ae154bc9a5b0455c831d8d93",
            "value": " 30/30 [06:27&lt;00:00, 12.65s/it]"
          }
        },
        "8b89fe9ac83445689813cb8ef4a30822": {
          "model_module": "@jupyter-widgets/base",
          "model_name": "LayoutModel",
          "model_module_version": "1.2.0",
          "state": {
            "_model_module": "@jupyter-widgets/base",
            "_model_module_version": "1.2.0",
            "_model_name": "LayoutModel",
            "_view_count": null,
            "_view_module": "@jupyter-widgets/base",
            "_view_module_version": "1.2.0",
            "_view_name": "LayoutView",
            "align_content": null,
            "align_items": null,
            "align_self": null,
            "border": null,
            "bottom": null,
            "display": null,
            "flex": null,
            "flex_flow": null,
            "grid_area": null,
            "grid_auto_columns": null,
            "grid_auto_flow": null,
            "grid_auto_rows": null,
            "grid_column": null,
            "grid_gap": null,
            "grid_row": null,
            "grid_template_areas": null,
            "grid_template_columns": null,
            "grid_template_rows": null,
            "height": null,
            "justify_content": null,
            "justify_items": null,
            "left": null,
            "margin": null,
            "max_height": null,
            "max_width": null,
            "min_height": null,
            "min_width": null,
            "object_fit": null,
            "object_position": null,
            "order": null,
            "overflow": null,
            "overflow_x": null,
            "overflow_y": null,
            "padding": null,
            "right": null,
            "top": null,
            "visibility": null,
            "width": null
          }
        },
        "3de26ca2ac8f4c79918fdc4307a9a269": {
          "model_module": "@jupyter-widgets/base",
          "model_name": "LayoutModel",
          "model_module_version": "1.2.0",
          "state": {
            "_model_module": "@jupyter-widgets/base",
            "_model_module_version": "1.2.0",
            "_model_name": "LayoutModel",
            "_view_count": null,
            "_view_module": "@jupyter-widgets/base",
            "_view_module_version": "1.2.0",
            "_view_name": "LayoutView",
            "align_content": null,
            "align_items": null,
            "align_self": null,
            "border": null,
            "bottom": null,
            "display": null,
            "flex": null,
            "flex_flow": null,
            "grid_area": null,
            "grid_auto_columns": null,
            "grid_auto_flow": null,
            "grid_auto_rows": null,
            "grid_column": null,
            "grid_gap": null,
            "grid_row": null,
            "grid_template_areas": null,
            "grid_template_columns": null,
            "grid_template_rows": null,
            "height": null,
            "justify_content": null,
            "justify_items": null,
            "left": null,
            "margin": null,
            "max_height": null,
            "max_width": null,
            "min_height": null,
            "min_width": null,
            "object_fit": null,
            "object_position": null,
            "order": null,
            "overflow": null,
            "overflow_x": null,
            "overflow_y": null,
            "padding": null,
            "right": null,
            "top": null,
            "visibility": null,
            "width": null
          }
        },
        "976e2f1e84f24bd0842eba28bbca0f69": {
          "model_module": "@jupyter-widgets/controls",
          "model_name": "DescriptionStyleModel",
          "model_module_version": "1.5.0",
          "state": {
            "_model_module": "@jupyter-widgets/controls",
            "_model_module_version": "1.5.0",
            "_model_name": "DescriptionStyleModel",
            "_view_count": null,
            "_view_module": "@jupyter-widgets/base",
            "_view_module_version": "1.2.0",
            "_view_name": "StyleView",
            "description_width": ""
          }
        },
        "84fd2e9e22484ff89acdd842827a9f4a": {
          "model_module": "@jupyter-widgets/base",
          "model_name": "LayoutModel",
          "model_module_version": "1.2.0",
          "state": {
            "_model_module": "@jupyter-widgets/base",
            "_model_module_version": "1.2.0",
            "_model_name": "LayoutModel",
            "_view_count": null,
            "_view_module": "@jupyter-widgets/base",
            "_view_module_version": "1.2.0",
            "_view_name": "LayoutView",
            "align_content": null,
            "align_items": null,
            "align_self": null,
            "border": null,
            "bottom": null,
            "display": null,
            "flex": null,
            "flex_flow": null,
            "grid_area": null,
            "grid_auto_columns": null,
            "grid_auto_flow": null,
            "grid_auto_rows": null,
            "grid_column": null,
            "grid_gap": null,
            "grid_row": null,
            "grid_template_areas": null,
            "grid_template_columns": null,
            "grid_template_rows": null,
            "height": null,
            "justify_content": null,
            "justify_items": null,
            "left": null,
            "margin": null,
            "max_height": null,
            "max_width": null,
            "min_height": null,
            "min_width": null,
            "object_fit": null,
            "object_position": null,
            "order": null,
            "overflow": null,
            "overflow_x": null,
            "overflow_y": null,
            "padding": null,
            "right": null,
            "top": null,
            "visibility": null,
            "width": null
          }
        },
        "d46c723d005e48eb8f7a03d652af174e": {
          "model_module": "@jupyter-widgets/controls",
          "model_name": "ProgressStyleModel",
          "model_module_version": "1.5.0",
          "state": {
            "_model_module": "@jupyter-widgets/controls",
            "_model_module_version": "1.5.0",
            "_model_name": "ProgressStyleModel",
            "_view_count": null,
            "_view_module": "@jupyter-widgets/base",
            "_view_module_version": "1.2.0",
            "_view_name": "StyleView",
            "bar_color": null,
            "description_width": ""
          }
        },
        "9f430a82c99d44559cbb0b95362c9c3c": {
          "model_module": "@jupyter-widgets/base",
          "model_name": "LayoutModel",
          "model_module_version": "1.2.0",
          "state": {
            "_model_module": "@jupyter-widgets/base",
            "_model_module_version": "1.2.0",
            "_model_name": "LayoutModel",
            "_view_count": null,
            "_view_module": "@jupyter-widgets/base",
            "_view_module_version": "1.2.0",
            "_view_name": "LayoutView",
            "align_content": null,
            "align_items": null,
            "align_self": null,
            "border": null,
            "bottom": null,
            "display": null,
            "flex": null,
            "flex_flow": null,
            "grid_area": null,
            "grid_auto_columns": null,
            "grid_auto_flow": null,
            "grid_auto_rows": null,
            "grid_column": null,
            "grid_gap": null,
            "grid_row": null,
            "grid_template_areas": null,
            "grid_template_columns": null,
            "grid_template_rows": null,
            "height": null,
            "justify_content": null,
            "justify_items": null,
            "left": null,
            "margin": null,
            "max_height": null,
            "max_width": null,
            "min_height": null,
            "min_width": null,
            "object_fit": null,
            "object_position": null,
            "order": null,
            "overflow": null,
            "overflow_x": null,
            "overflow_y": null,
            "padding": null,
            "right": null,
            "top": null,
            "visibility": null,
            "width": null
          }
        },
        "d9569463ae154bc9a5b0455c831d8d93": {
          "model_module": "@jupyter-widgets/controls",
          "model_name": "DescriptionStyleModel",
          "model_module_version": "1.5.0",
          "state": {
            "_model_module": "@jupyter-widgets/controls",
            "_model_module_version": "1.5.0",
            "_model_name": "DescriptionStyleModel",
            "_view_count": null,
            "_view_module": "@jupyter-widgets/base",
            "_view_module_version": "1.2.0",
            "_view_name": "StyleView",
            "description_width": ""
          }
        },
        "39158cd3885548eaa0c376a88feed6f2": {
          "model_module": "@jupyter-widgets/controls",
          "model_name": "HBoxModel",
          "model_module_version": "1.5.0",
          "state": {
            "_dom_classes": [],
            "_model_module": "@jupyter-widgets/controls",
            "_model_module_version": "1.5.0",
            "_model_name": "HBoxModel",
            "_view_count": null,
            "_view_module": "@jupyter-widgets/controls",
            "_view_module_version": "1.5.0",
            "_view_name": "HBoxView",
            "box_style": "",
            "children": [
              "IPY_MODEL_026e1fd4481949cfaf4cbba7e31e2a5a",
              "IPY_MODEL_dfbde5a492d34f0d99fdc157d2330e3d",
              "IPY_MODEL_53ba27b78e2249c9a0f67dadeafb5d3f"
            ],
            "layout": "IPY_MODEL_94b2141ffdff41d5a8914ee7fb288777"
          }
        },
        "026e1fd4481949cfaf4cbba7e31e2a5a": {
          "model_module": "@jupyter-widgets/controls",
          "model_name": "HTMLModel",
          "model_module_version": "1.5.0",
          "state": {
            "_dom_classes": [],
            "_model_module": "@jupyter-widgets/controls",
            "_model_module_version": "1.5.0",
            "_model_name": "HTMLModel",
            "_view_count": null,
            "_view_module": "@jupyter-widgets/controls",
            "_view_module_version": "1.5.0",
            "_view_name": "HTMLView",
            "description": "",
            "description_tooltip": null,
            "layout": "IPY_MODEL_a9b0d20c200249049b5d59edffa1202a",
            "placeholder": "​",
            "style": "IPY_MODEL_7fb6d0dec9d24d55bf3ed2a3f53da840",
            "value": "100%"
          }
        },
        "dfbde5a492d34f0d99fdc157d2330e3d": {
          "model_module": "@jupyter-widgets/controls",
          "model_name": "FloatProgressModel",
          "model_module_version": "1.5.0",
          "state": {
            "_dom_classes": [],
            "_model_module": "@jupyter-widgets/controls",
            "_model_module_version": "1.5.0",
            "_model_name": "FloatProgressModel",
            "_view_count": null,
            "_view_module": "@jupyter-widgets/controls",
            "_view_module_version": "1.5.0",
            "_view_name": "ProgressView",
            "bar_style": "success",
            "description": "",
            "description_tooltip": null,
            "layout": "IPY_MODEL_986fe83fdf3645d1b162f46a576d0027",
            "max": 50,
            "min": 0,
            "orientation": "horizontal",
            "style": "IPY_MODEL_89f42229d1184e278399916f937bbf58",
            "value": 50
          }
        },
        "53ba27b78e2249c9a0f67dadeafb5d3f": {
          "model_module": "@jupyter-widgets/controls",
          "model_name": "HTMLModel",
          "model_module_version": "1.5.0",
          "state": {
            "_dom_classes": [],
            "_model_module": "@jupyter-widgets/controls",
            "_model_module_version": "1.5.0",
            "_model_name": "HTMLModel",
            "_view_count": null,
            "_view_module": "@jupyter-widgets/controls",
            "_view_module_version": "1.5.0",
            "_view_name": "HTMLView",
            "description": "",
            "description_tooltip": null,
            "layout": "IPY_MODEL_29ddb83211c945a9a736fd5cc796c6f6",
            "placeholder": "​",
            "style": "IPY_MODEL_7fa47e12ea784f318968bfaa6b318650",
            "value": " 50/50 [05:29&lt;00:00,  6.60s/it]"
          }
        },
        "94b2141ffdff41d5a8914ee7fb288777": {
          "model_module": "@jupyter-widgets/base",
          "model_name": "LayoutModel",
          "model_module_version": "1.2.0",
          "state": {
            "_model_module": "@jupyter-widgets/base",
            "_model_module_version": "1.2.0",
            "_model_name": "LayoutModel",
            "_view_count": null,
            "_view_module": "@jupyter-widgets/base",
            "_view_module_version": "1.2.0",
            "_view_name": "LayoutView",
            "align_content": null,
            "align_items": null,
            "align_self": null,
            "border": null,
            "bottom": null,
            "display": null,
            "flex": null,
            "flex_flow": null,
            "grid_area": null,
            "grid_auto_columns": null,
            "grid_auto_flow": null,
            "grid_auto_rows": null,
            "grid_column": null,
            "grid_gap": null,
            "grid_row": null,
            "grid_template_areas": null,
            "grid_template_columns": null,
            "grid_template_rows": null,
            "height": null,
            "justify_content": null,
            "justify_items": null,
            "left": null,
            "margin": null,
            "max_height": null,
            "max_width": null,
            "min_height": null,
            "min_width": null,
            "object_fit": null,
            "object_position": null,
            "order": null,
            "overflow": null,
            "overflow_x": null,
            "overflow_y": null,
            "padding": null,
            "right": null,
            "top": null,
            "visibility": null,
            "width": null
          }
        },
        "a9b0d20c200249049b5d59edffa1202a": {
          "model_module": "@jupyter-widgets/base",
          "model_name": "LayoutModel",
          "model_module_version": "1.2.0",
          "state": {
            "_model_module": "@jupyter-widgets/base",
            "_model_module_version": "1.2.0",
            "_model_name": "LayoutModel",
            "_view_count": null,
            "_view_module": "@jupyter-widgets/base",
            "_view_module_version": "1.2.0",
            "_view_name": "LayoutView",
            "align_content": null,
            "align_items": null,
            "align_self": null,
            "border": null,
            "bottom": null,
            "display": null,
            "flex": null,
            "flex_flow": null,
            "grid_area": null,
            "grid_auto_columns": null,
            "grid_auto_flow": null,
            "grid_auto_rows": null,
            "grid_column": null,
            "grid_gap": null,
            "grid_row": null,
            "grid_template_areas": null,
            "grid_template_columns": null,
            "grid_template_rows": null,
            "height": null,
            "justify_content": null,
            "justify_items": null,
            "left": null,
            "margin": null,
            "max_height": null,
            "max_width": null,
            "min_height": null,
            "min_width": null,
            "object_fit": null,
            "object_position": null,
            "order": null,
            "overflow": null,
            "overflow_x": null,
            "overflow_y": null,
            "padding": null,
            "right": null,
            "top": null,
            "visibility": null,
            "width": null
          }
        },
        "7fb6d0dec9d24d55bf3ed2a3f53da840": {
          "model_module": "@jupyter-widgets/controls",
          "model_name": "DescriptionStyleModel",
          "model_module_version": "1.5.0",
          "state": {
            "_model_module": "@jupyter-widgets/controls",
            "_model_module_version": "1.5.0",
            "_model_name": "DescriptionStyleModel",
            "_view_count": null,
            "_view_module": "@jupyter-widgets/base",
            "_view_module_version": "1.2.0",
            "_view_name": "StyleView",
            "description_width": ""
          }
        },
        "986fe83fdf3645d1b162f46a576d0027": {
          "model_module": "@jupyter-widgets/base",
          "model_name": "LayoutModel",
          "model_module_version": "1.2.0",
          "state": {
            "_model_module": "@jupyter-widgets/base",
            "_model_module_version": "1.2.0",
            "_model_name": "LayoutModel",
            "_view_count": null,
            "_view_module": "@jupyter-widgets/base",
            "_view_module_version": "1.2.0",
            "_view_name": "LayoutView",
            "align_content": null,
            "align_items": null,
            "align_self": null,
            "border": null,
            "bottom": null,
            "display": null,
            "flex": null,
            "flex_flow": null,
            "grid_area": null,
            "grid_auto_columns": null,
            "grid_auto_flow": null,
            "grid_auto_rows": null,
            "grid_column": null,
            "grid_gap": null,
            "grid_row": null,
            "grid_template_areas": null,
            "grid_template_columns": null,
            "grid_template_rows": null,
            "height": null,
            "justify_content": null,
            "justify_items": null,
            "left": null,
            "margin": null,
            "max_height": null,
            "max_width": null,
            "min_height": null,
            "min_width": null,
            "object_fit": null,
            "object_position": null,
            "order": null,
            "overflow": null,
            "overflow_x": null,
            "overflow_y": null,
            "padding": null,
            "right": null,
            "top": null,
            "visibility": null,
            "width": null
          }
        },
        "89f42229d1184e278399916f937bbf58": {
          "model_module": "@jupyter-widgets/controls",
          "model_name": "ProgressStyleModel",
          "model_module_version": "1.5.0",
          "state": {
            "_model_module": "@jupyter-widgets/controls",
            "_model_module_version": "1.5.0",
            "_model_name": "ProgressStyleModel",
            "_view_count": null,
            "_view_module": "@jupyter-widgets/base",
            "_view_module_version": "1.2.0",
            "_view_name": "StyleView",
            "bar_color": null,
            "description_width": ""
          }
        },
        "29ddb83211c945a9a736fd5cc796c6f6": {
          "model_module": "@jupyter-widgets/base",
          "model_name": "LayoutModel",
          "model_module_version": "1.2.0",
          "state": {
            "_model_module": "@jupyter-widgets/base",
            "_model_module_version": "1.2.0",
            "_model_name": "LayoutModel",
            "_view_count": null,
            "_view_module": "@jupyter-widgets/base",
            "_view_module_version": "1.2.0",
            "_view_name": "LayoutView",
            "align_content": null,
            "align_items": null,
            "align_self": null,
            "border": null,
            "bottom": null,
            "display": null,
            "flex": null,
            "flex_flow": null,
            "grid_area": null,
            "grid_auto_columns": null,
            "grid_auto_flow": null,
            "grid_auto_rows": null,
            "grid_column": null,
            "grid_gap": null,
            "grid_row": null,
            "grid_template_areas": null,
            "grid_template_columns": null,
            "grid_template_rows": null,
            "height": null,
            "justify_content": null,
            "justify_items": null,
            "left": null,
            "margin": null,
            "max_height": null,
            "max_width": null,
            "min_height": null,
            "min_width": null,
            "object_fit": null,
            "object_position": null,
            "order": null,
            "overflow": null,
            "overflow_x": null,
            "overflow_y": null,
            "padding": null,
            "right": null,
            "top": null,
            "visibility": null,
            "width": null
          }
        },
        "7fa47e12ea784f318968bfaa6b318650": {
          "model_module": "@jupyter-widgets/controls",
          "model_name": "DescriptionStyleModel",
          "model_module_version": "1.5.0",
          "state": {
            "_model_module": "@jupyter-widgets/controls",
            "_model_module_version": "1.5.0",
            "_model_name": "DescriptionStyleModel",
            "_view_count": null,
            "_view_module": "@jupyter-widgets/base",
            "_view_module_version": "1.2.0",
            "_view_name": "StyleView",
            "description_width": ""
          }
        }
      }
    }
  },
  "nbformat": 4,
  "nbformat_minor": 0
}